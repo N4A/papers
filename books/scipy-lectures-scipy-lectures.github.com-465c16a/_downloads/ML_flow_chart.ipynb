{
  "nbformat_minor": 0, 
  "nbformat": 4, 
  "cells": [
    {
      "execution_count": null, 
      "cell_type": "code", 
      "source": [
        "%matplotlib inline"
      ], 
      "outputs": [], 
      "metadata": {
        "collapsed": false
      }
    }, 
    {
      "source": [
        "\nTutorial Diagrams\n-----------------\n\nThis script plots the flow-charts used in the scikit-learn tutorials.\n\n"
      ], 
      "cell_type": "markdown", 
      "metadata": {}
    }, 
    {
      "execution_count": null, 
      "cell_type": "code", 
      "source": [
        "import numpy as np\nimport pylab as pl\nfrom matplotlib.patches import Circle, Rectangle, Polygon, Arrow, FancyArrow\n\ndef create_base(box_bg = '#CCCCCC',\n                arrow1 = '#88CCFF',\n                arrow2 = '#88FF88',\n                supervised=True):\n    fig = pl.figure(figsize=(9, 6), facecolor='w')\n    ax = pl.axes((0, 0, 1, 1),\n                 xticks=[], yticks=[], frameon=False)\n    ax.set_xlim(0, 9)\n    ax.set_ylim(0, 6)\n\n    patches = [Rectangle((0.3, 3.6), 1.5, 1.8, zorder=1, fc=box_bg),\n               Rectangle((0.5, 3.8), 1.5, 1.8, zorder=2, fc=box_bg),\n               Rectangle((0.7, 4.0), 1.5, 1.8, zorder=3, fc=box_bg),\n               \n               Rectangle((2.9, 3.6), 0.2, 1.8, fc=box_bg),\n               Rectangle((3.1, 3.8), 0.2, 1.8, fc=box_bg),\n               Rectangle((3.3, 4.0), 0.2, 1.8, fc=box_bg),\n               \n               Rectangle((0.3, 0.2), 1.5, 1.8, fc=box_bg),\n               \n               Rectangle((2.9, 0.2), 0.2, 1.8, fc=box_bg),\n               \n               Circle((5.5, 3.5), 1.0, fc=box_bg),\n               \n               Polygon([[5.5, 1.7],\n                        [6.1, 1.1],\n                        [5.5, 0.5],\n                        [4.9, 1.1]], fc=box_bg),\n               \n               FancyArrow(2.3, 4.6, 0.35, 0, fc=arrow1,\n                          width=0.25, head_width=0.5, head_length=0.2),\n               \n               FancyArrow(3.75, 4.2, 0.5, -0.2, fc=arrow1,\n                          width=0.25, head_width=0.5, head_length=0.2),\n               \n               FancyArrow(5.5, 2.4, 0, -0.4, fc=arrow1,\n                          width=0.25, head_width=0.5, head_length=0.2),\n               \n               FancyArrow(2.0, 1.1, 0.5, 0, fc=arrow2,\n                          width=0.25, head_width=0.5, head_length=0.2),\n               \n               FancyArrow(3.3, 1.1, 1.3, 0, fc=arrow2,\n                          width=0.25, head_width=0.5, head_length=0.2),\n               \n               FancyArrow(6.2, 1.1, 0.8, 0, fc=arrow2,\n                          width=0.25, head_width=0.5, head_length=0.2)]\n\n    if supervised:\n        patches += [Rectangle((0.3, 2.4), 1.5, 0.5, zorder=1, fc=box_bg),\n                    Rectangle((0.5, 2.6), 1.5, 0.5, zorder=2, fc=box_bg),\n                    Rectangle((0.7, 2.8), 1.5, 0.5, zorder=3, fc=box_bg),\n                    FancyArrow(2.3, 2.9, 2.0, 0, fc=arrow1,\n                               width=0.25, head_width=0.5, head_length=0.2),\n                    Rectangle((7.3, 0.85), 1.5, 0.5, fc=box_bg)]\n    else:\n        patches += [Rectangle((7.3, 0.2), 1.5, 1.8, fc=box_bg)]\n    \n    for p in patches:\n        ax.add_patch(p)\n        \n    pl.text(1.45, 4.9, \"Training\\nText,\\nDocuments,\\nImages,\\netc.\",\n            ha='center', va='center', fontsize=14)\n    \n    pl.text(3.6, 4.9, \"Feature\\nVectors\", \n            ha='left', va='center', fontsize=14)\n    \n    pl.text(5.5, 3.5, \"Machine\\nLearning\\nAlgorithm\",\n            ha='center', va='center', fontsize=14)\n    \n    pl.text(1.05, 1.1, \"New Text,\\nDocument,\\nImage,\\netc.\",\n            ha='center', va='center', fontsize=14)\n    \n    pl.text(3.3, 1.7, \"Feature\\nVector\", \n            ha='left', va='center', fontsize=14)\n    \n    pl.text(5.5, 1.1, \"Predictive\\nModel\", \n            ha='center', va='center', fontsize=12)\n\n    if supervised:\n        pl.text(1.45, 3.05, \"Labels\",\n                ha='center', va='center', fontsize=14)\n    \n        pl.text(8.05, 1.1, \"Expected\\nLabel\",\n                ha='center', va='center', fontsize=14)\n        pl.text(8.8, 5.8, \"Supervised Learning Model\",\n                ha='right', va='top', fontsize=18)\n\n    else:\n        pl.text(8.05, 1.1,\n                \"Likelihood\\nor Cluster ID\\nor Better\\nRepresentation\",\n                ha='center', va='center', fontsize=12)\n        pl.text(8.8, 5.8, \"Unsupervised Learning Model\",\n                ha='right', va='top', fontsize=18)\n        \n        \n\ndef plot_supervised_chart(annotate=False):\n    create_base(supervised=True)\n    if annotate:\n        fontdict = dict(color='r', weight='bold', size=14)\n        pl.text(1.9, 4.55, 'X = vec.fit_transform(input)',\n                fontdict=fontdict,\n                rotation=20, ha='left', va='bottom')\n        pl.text(3.7, 3.2, 'clf.fit(X, y)',\n                fontdict=fontdict,\n                rotation=20, ha='left', va='bottom')\n        pl.text(1.7, 1.5, 'X_new = vec.transform(input)',\n                fontdict=fontdict,\n                rotation=20, ha='left', va='bottom')\n        pl.text(6.1, 1.5, 'y_new = clf.predict(X_new)',\n                fontdict=fontdict,\n                rotation=20, ha='left', va='bottom')\n\ndef plot_unsupervised_chart():\n    create_base(supervised=False)\n\n\nif __name__ == '__main__':\n    plot_supervised_chart(False)\n    plot_supervised_chart(True)\n    plot_unsupervised_chart()\n    pl.show()"
      ], 
      "outputs": [], 
      "metadata": {
        "collapsed": false
      }
    }
  ], 
  "metadata": {
    "kernelspec": {
      "display_name": "Python 2", 
      "name": "python2", 
      "language": "python"
    }, 
    "language_info": {
      "mimetype": "text/x-python", 
      "nbconvert_exporter": "python", 
      "name": "python", 
      "file_extension": ".py", 
      "version": "2.7.12", 
      "pygments_lexer": "ipython2", 
      "codemirror_mode": {
        "version": 2, 
        "name": "ipython"
      }
    }
  }
}