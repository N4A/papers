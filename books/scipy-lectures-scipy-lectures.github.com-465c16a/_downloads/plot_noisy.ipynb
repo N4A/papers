{
  "nbformat_minor": 0, 
  "nbformat": 4, 
  "cells": [
    {
      "execution_count": null, 
      "cell_type": "code", 
      "source": [
        "%matplotlib inline"
      ], 
      "outputs": [], 
      "metadata": {
        "collapsed": false
      }
    }, 
    {
      "source": [
        "\nNoisy optimization problem\n===========================\n\nDraws a figure explaining noisy vs non-noisy optimization\n\n"
      ], 
      "cell_type": "markdown", 
      "metadata": {}
    }, 
    {
      "execution_count": null, 
      "cell_type": "code", 
      "source": [
        "import numpy as np\nimport pylab as pl\n\nnp.random.seed(0)\n\nx = np.linspace(-5, 5, 101)\nx_ = np.linspace(-5, 5, 31)\n\ndef f(x):\n    return -np.exp(-x**2)\n\n# A smooth function\npl.figure(1, figsize=(3, 2.5))\npl.clf()\n\npl.plot(x_, f(x_) + .2*np.random.normal(size=31), linewidth=2)\npl.plot(x, f(x), linewidth=2)\n\npl.ylim(ymin=-1.3)\npl.axis('off')\npl.tight_layout()\npl.show()"
      ], 
      "outputs": [], 
      "metadata": {
        "collapsed": false
      }
    }
  ], 
  "metadata": {
    "kernelspec": {
      "display_name": "Python 2", 
      "name": "python2", 
      "language": "python"
    }, 
    "language_info": {
      "mimetype": "text/x-python", 
      "nbconvert_exporter": "python", 
      "name": "python", 
      "file_extension": ".py", 
      "version": "2.7.12", 
      "pygments_lexer": "ipython2", 
      "codemirror_mode": {
        "version": 2, 
        "name": "ipython"
      }
    }
  }
}