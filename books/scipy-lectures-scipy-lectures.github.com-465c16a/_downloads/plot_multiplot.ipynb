{
  "nbformat_minor": 0, 
  "nbformat": 4, 
  "cells": [
    {
      "execution_count": null, 
      "cell_type": "code", 
      "source": [
        "%matplotlib inline"
      ], 
      "outputs": [], 
      "metadata": {
        "collapsed": false
      }
    }, 
    {
      "source": [
        "\nSubplots\n=========\n\nShow multiple subplots in matplotlib.\n\n"
      ], 
      "cell_type": "markdown", 
      "metadata": {}
    }, 
    {
      "execution_count": null, 
      "cell_type": "code", 
      "source": [
        "import matplotlib.pyplot as plt\n\nfig = plt.figure()\nfig.subplots_adjust(bottom=0.025, left=0.025, top = 0.975, right=0.975)\n\nplt.subplot(2, 1, 1)\nplt.xticks(()), plt.yticks(())\n\nplt.subplot(2, 3, 4)\nplt.xticks(())\nplt.yticks(())\n\nplt.subplot(2, 3, 5)\nplt.xticks(())\nplt.yticks(())\n\nplt.subplot(2, 3, 6)\nplt.xticks(())\nplt.yticks(())\n\nplt.show()"
      ], 
      "outputs": [], 
      "metadata": {
        "collapsed": false
      }
    }
  ], 
  "metadata": {
    "kernelspec": {
      "display_name": "Python 2", 
      "name": "python2", 
      "language": "python"
    }, 
    "language_info": {
      "mimetype": "text/x-python", 
      "nbconvert_exporter": "python", 
      "name": "python", 
      "file_extension": ".py", 
      "version": "2.7.12", 
      "pygments_lexer": "ipython2", 
      "codemirror_mode": {
        "version": 2, 
        "name": "ipython"
      }
    }
  }
}