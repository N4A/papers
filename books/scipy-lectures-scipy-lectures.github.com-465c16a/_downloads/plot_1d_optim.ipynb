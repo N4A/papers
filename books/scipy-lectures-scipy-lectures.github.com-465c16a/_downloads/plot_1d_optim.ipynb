{
  "nbformat_minor": 0, 
  "nbformat": 4, 
  "cells": [
    {
      "execution_count": null, 
      "cell_type": "code", 
      "source": [
        "%matplotlib inline"
      ], 
      "outputs": [], 
      "metadata": {
        "collapsed": false
      }
    }, 
    {
      "source": [
        "\nBrent's method\n================\n\nIllustration of 1D optimization: Brent's method\n\n"
      ], 
      "cell_type": "markdown", 
      "metadata": {}
    }, 
    {
      "execution_count": null, 
      "cell_type": "code", 
      "source": [
        "import numpy as np\nimport pylab as pl\nfrom scipy import optimize\n\nx = np.linspace(-1, 3, 100)\nx_0 = np.exp(-1)\n\ndef f(x):\n    return (x - x_0)**2 + epsilon*np.exp(-5*(x - .5 - x_0)**2)\n\nfor epsilon in (0, 1):\n    pl.figure(figsize=(3, 2.5))\n    pl.axes([0, 0, 1, 1])\n\n    # A convex function\n    pl.plot(x, f(x), linewidth=2)\n\n    # Apply brent method. To have access to the iteration, do this in an\n    # artificial way: allow the algorithm to iter only once\n    all_x = list()\n    all_y = list()\n    for iter in range(30):\n        out = optimize.brent(f, brack=(-5, 2.9, 4.5), maxiter=iter,\n                             full_output=True,\n                             tol=np.finfo(1.).eps)\n        if iter != out[-2]:\n            print('Converged at ', iter)\n            break\n        this_x = out[0]\n        all_x.append(this_x)\n        all_y.append(f(this_x))\n        if iter < 6:\n            pl.text(this_x - .05*np.sign(this_x) - .05,\n                    f(this_x) + 1.2*(.3 - iter % 2), iter + 1,\n                    size=12)\n\n    pl.plot(all_x[:10], all_y[:10], 'k+', markersize=12, markeredgewidth=2)\n\n    pl.plot(all_x[-1], all_y[-1], 'rx', markersize=12)\n    pl.axis('off')\n    pl.ylim(ymin=-1, ymax=8)\n\n    pl.figure(figsize=(4, 3))\n    pl.semilogy(np.abs(all_y - all_y[-1]), linewidth=2)\n    pl.ylabel('Error on f(x)')\n    pl.xlabel('Iteration')\n    pl.tight_layout()\n\npl.show()"
      ], 
      "outputs": [], 
      "metadata": {
        "collapsed": false
      }
    }
  ], 
  "metadata": {
    "kernelspec": {
      "display_name": "Python 2", 
      "name": "python2", 
      "language": "python"
    }, 
    "language_info": {
      "mimetype": "text/x-python", 
      "nbconvert_exporter": "python", 
      "name": "python", 
      "file_extension": ".py", 
      "version": "2.7.12", 
      "pygments_lexer": "ipython2", 
      "codemirror_mode": {
        "version": 2, 
        "name": "ipython"
      }
    }
  }
}