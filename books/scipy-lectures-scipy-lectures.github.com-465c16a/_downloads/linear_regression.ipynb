{
  "nbformat_minor": 0, 
  "nbformat": 4, 
  "cells": [
    {
      "execution_count": null, 
      "cell_type": "code", 
      "source": [
        "%matplotlib inline"
      ], 
      "outputs": [], 
      "metadata": {
        "collapsed": false
      }
    }, 
    {
      "source": [
        "\nA simple linear regression\n===========================\n\n\n"
      ], 
      "cell_type": "markdown", 
      "metadata": {}
    }, 
    {
      "execution_count": null, 
      "cell_type": "code", 
      "source": [
        "import numpy as np\nimport matplotlib.pyplot as plt\nfrom sklearn.linear_model import LinearRegression\n\n\ndef plot_linear_regression():\n    a = 0.5\n    b = 1.0\n\n    # x from 0 to 10\n    x = 30 * np.random.random(20)\n\n    # y = a*x + b with noise\n    y = a * x + b + np.random.normal(size=x.shape)\n\n    # create a linear regression classifier\n    clf = LinearRegression()\n    clf.fit(x[:, None], y)\n\n    # predict y from the data\n    x_new = np.linspace(0, 30, 100)\n    y_new = clf.predict(x_new[:, None])\n\n    # plot the results\n    ax = plt.axes()\n    ax.scatter(x, y)\n    ax.plot(x_new, y_new)\n\n    ax.set_xlabel('x')\n    ax.set_ylabel('y')\n\n    ax.axis('tight')\n\n\nif __name__ == '__main__':\n    plot_linear_regression()\n    plt.show()"
      ], 
      "outputs": [], 
      "metadata": {
        "collapsed": false
      }
    }
  ], 
  "metadata": {
    "kernelspec": {
      "display_name": "Python 2", 
      "name": "python2", 
      "language": "python"
    }, 
    "language_info": {
      "mimetype": "text/x-python", 
      "nbconvert_exporter": "python", 
      "name": "python", 
      "file_extension": ".py", 
      "version": "2.7.12", 
      "pygments_lexer": "ipython2", 
      "codemirror_mode": {
        "version": 2, 
        "name": "ipython"
      }
    }
  }
}