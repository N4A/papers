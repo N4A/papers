{
  "nbformat_minor": 0, 
  "nbformat": 4, 
  "cells": [
    {
      "execution_count": null, 
      "cell_type": "code", 
      "source": [
        "%matplotlib inline"
      ], 
      "outputs": [], 
      "metadata": {
        "collapsed": false
      }
    }, 
    {
      "source": [
        "\nSolid cap style\n================\n\nAn example demoing the solide cap style in matplotlib.\n\n"
      ], 
      "cell_type": "markdown", 
      "metadata": {}
    }, 
    {
      "execution_count": null, 
      "cell_type": "code", 
      "source": [
        "import numpy as np\nimport matplotlib.pyplot as plt\n\nsize = 256, 16\ndpi = 72.0\nfigsize= size[0] / float(dpi), size[1] / float(dpi)\nfig = plt.figure(figsize=figsize, dpi=dpi)\nfig.patch.set_alpha(0)\nplt.axes([0, 0, 1, 1], frameon=False)\n\nplt.plot(np.arange(4), np.ones(4), color=\"blue\", linewidth=8,\n        solid_capstyle='butt')\n\nplt.plot(5 + np.arange(4), np.ones(4), color=\"blue\", linewidth=8,\n        solid_capstyle='round')\n\nplt.plot(10 + np.arange(4), np.ones(4), color=\"blue\", linewidth=8,\n        solid_capstyle='projecting')\n\nplt.xlim(0, 14)\nplt.xticks(())\nplt.yticks(())\n\nplt.show()"
      ], 
      "outputs": [], 
      "metadata": {
        "collapsed": false
      }
    }
  ], 
  "metadata": {
    "kernelspec": {
      "display_name": "Python 2", 
      "name": "python2", 
      "language": "python"
    }, 
    "language_info": {
      "mimetype": "text/x-python", 
      "nbconvert_exporter": "python", 
      "name": "python", 
      "file_extension": ".py", 
      "version": "2.7.12", 
      "pygments_lexer": "ipython2", 
      "codemirror_mode": {
        "version": 2, 
        "name": "ipython"
      }
    }
  }
}