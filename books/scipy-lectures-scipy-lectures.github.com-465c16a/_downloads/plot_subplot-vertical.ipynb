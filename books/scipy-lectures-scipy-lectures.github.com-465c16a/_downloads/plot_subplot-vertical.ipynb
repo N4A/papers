{
  "nbformat_minor": 0, 
  "nbformat": 4, 
  "cells": [
    {
      "execution_count": null, 
      "cell_type": "code", 
      "source": [
        "%matplotlib inline"
      ], 
      "outputs": [], 
      "metadata": {
        "collapsed": false
      }
    }, 
    {
      "source": [
        "\nSubplot plot arrangement vertical\n==================================\n\nAn example showing vertical arrangement of subplots with matplotlib.\n\n"
      ], 
      "cell_type": "markdown", 
      "metadata": {}
    }, 
    {
      "execution_count": null, 
      "cell_type": "code", 
      "source": [
        "import matplotlib.pyplot as plt\n\n\nplt.figure(figsize=(6, 4))\nplt.subplot(1, 2, 1)\nplt.xticks(())\nplt.yticks(())\nplt.text(0.5, 0.5, 'subplot(1,2,1)', ha='center', va='center',\n        size=24, alpha=.5)\n\nplt.subplot(1, 2, 2)\nplt.xticks(())\nplt.yticks(())\nplt.text(0.5, 0.5, 'subplot(1,2,2)', ha='center', va='center',\n        size=24, alpha=.5)\n\nplt.tight_layout()\nplt.show()"
      ], 
      "outputs": [], 
      "metadata": {
        "collapsed": false
      }
    }
  ], 
  "metadata": {
    "kernelspec": {
      "display_name": "Python 2", 
      "name": "python2", 
      "language": "python"
    }, 
    "language_info": {
      "mimetype": "text/x-python", 
      "nbconvert_exporter": "python", 
      "name": "python", 
      "file_extension": ".py", 
      "version": "2.7.12", 
      "pygments_lexer": "ipython2", 
      "codemirror_mode": {
        "version": 2, 
        "name": "ipython"
      }
    }
  }
}