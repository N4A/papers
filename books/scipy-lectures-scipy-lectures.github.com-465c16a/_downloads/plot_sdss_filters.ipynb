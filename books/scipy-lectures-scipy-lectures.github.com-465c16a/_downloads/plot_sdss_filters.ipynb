{
  "nbformat_minor": 0, 
  "nbformat": 4, 
  "cells": [
    {
      "execution_count": null, 
      "cell_type": "code", 
      "source": [
        "%matplotlib inline"
      ], 
      "outputs": [], 
      "metadata": {
        "collapsed": false
      }
    }, 
    {
      "source": [
        "\nSDSS Filters\n------------\n\nThis example downloads and plots the filters from the Sloan Digital Sky\nSurvey, along with a reference spectrum.\n\n"
      ], 
      "cell_type": "markdown", 
      "metadata": {}
    }, 
    {
      "execution_count": null, 
      "cell_type": "code", 
      "source": [
        "import os\ntry:\n    from urllib.request import urlopen\nexcept ImportError:\n    # Python n2\n    from urllib2 import urlopen\n\nimport numpy as np\nimport matplotlib.pyplot as plt\nfrom matplotlib.patches import Arrow\n\nDOWNLOAD_DIR = 'downloads'\nREFSPEC_URL = 'ftp://ftp.stsci.edu/cdbs/current_calspec/1732526_nic_002.ascii'\nFILTER_URL = 'http://www.sdss.org/dr7/instruments/imager/filters/%s.dat'\n\n\ndef fetch_filter(filt):\n    assert filt in 'ugriz'\n    url = FILTER_URL % filt\n\n    if not os.path.exists(DOWNLOAD_DIR):\n        os.makedirs(DOWNLOAD_DIR)\n\n    loc = os.path.join(DOWNLOAD_DIR, '%s.dat' % filt)\n    if not os.path.exists(loc):\n        print(\"downloading from %s\" % url)\n        F = urlopen(url)\n        open(loc, 'w').write(F.read())\n\n    F = open(loc)\n\n    data = np.loadtxt(F)\n    return data\n\n\ndef fetch_vega_spectrum():\n    if not os.path.exists(DOWNLOAD_DIR):\n        os.makedirs(DOWNLOAD_DIR)\n\n    refspec_file = os.path.join(DOWNLOAD_DIR, REFSPEC_URL.split('/')[-1])\n\n    if  not os.path.exists(refspec_file):\n        print(\"downloading from %s\" % REFSPEC_URL)\n        F = urlopen(REFSPEC_URL)\n        open(refspec_file, 'w').write(F.read())\n\n    F = open(refspec_file)\n\n    data = np.loadtxt(F)\n    return data\n\n\ndef plot_sdss_filters():\n    Xref = fetch_vega_spectrum()\n    Xref[:, 1] /= 2.1 * Xref[:, 1].max()\n\n    #----------------------------------------------------------------------\n    # Plot filters in color with a single spectrum\n    fig, ax = plt.subplots()\n    ax.plot(Xref[:, 0], Xref[:, 1], '-k', lw=2)\n\n    for f,c in zip('ugriz', 'bgrmk'):\n        X = fetch_filter(f)\n        ax.fill(X[:, 0], X[:, 1], ec=c, fc=c, alpha=0.4)\n\n    kwargs = dict(fontsize=20, ha='center', va='center', alpha=0.5)\n    ax.text(3500, 0.02, 'u', color='b', **kwargs)\n    ax.text(4600, 0.02, 'g', color='g', **kwargs)\n    ax.text(6100, 0.02, 'r', color='r', **kwargs)\n    ax.text(7500, 0.02, 'i', color='m', **kwargs)\n    ax.text(8800, 0.02, 'z', color='k', **kwargs)\n\n    ax.set_xlim(3000, 11000)\n\n    ax.set_title('SDSS Filters and Reference Spectrum')\n    ax.set_xlabel('Wavelength (Angstroms)')\n    ax.set_ylabel('normalized flux / filter transmission')\n\n\ndef plot_redshifts():\n    Xref = fetch_vega_spectrum()\n    Xref[:, 1] /= 2.1 * Xref[:, 1].max()\n\n    #----------------------------------------------------------------------\n    # Plot filters in gray with several redshifted spectra\n    fig, ax = plt.subplots()\n\n    redshifts = [0.0, 0.4, 0.8]\n    colors = 'bgr'\n\n    for z, c in zip(redshifts, colors):\n        plt.plot((1. + z) * Xref[:, 0], Xref[:, 1], color=c)\n\n    ax.add_patch(Arrow(4200, 0.47, 1300, 0, lw=0, width=0.05, color='r'))\n    ax.add_patch(Arrow(5800, 0.47, 1250, 0, lw=0, width=0.05, color='r'))\n\n    ax.text(3800, 0.49, 'z = 0.0', fontsize=14, color=colors[0])\n    ax.text(5500, 0.49, 'z = 0.4', fontsize=14, color=colors[1])\n    ax.text(7300, 0.49, 'z = 0.8', fontsize=14, color=colors[2])\n\n    for f in 'ugriz':\n        X = fetch_filter(f)\n        ax.fill(X[:, 0], X[:, 1], ec='k', fc='k', alpha=0.2)\n\n    kwargs = dict(fontsize=20, color='gray', ha='center', va='center')\n    ax.text(3500, 0.02, 'u', **kwargs)\n    ax.text(4600, 0.02, 'g', **kwargs)\n    ax.text(6100, 0.02, 'r', **kwargs)\n    ax.text(7500, 0.02, 'i', **kwargs)\n    ax.text(8800, 0.02, 'z', **kwargs)\n\n    ax.set_xlim(3000, 11000)\n    ax.set_ylim(0, 0.55)\n\n    ax.set_title('Redshifting of a Spectrum')\n    ax.set_xlabel('Observed Wavelength (Angstroms)')\n    ax.set_ylabel('normalized flux / filter transmission')\n\n\nif __name__ == '__main__':\n    plot_sdss_filters()\n    plot_redshifts()\n    plt.show()"
      ], 
      "outputs": [], 
      "metadata": {
        "collapsed": false
      }
    }
  ], 
  "metadata": {
    "kernelspec": {
      "display_name": "Python 2", 
      "name": "python2", 
      "language": "python"
    }, 
    "language_info": {
      "mimetype": "text/x-python", 
      "nbconvert_exporter": "python", 
      "name": "python", 
      "file_extension": ".py", 
      "version": "2.7.12", 
      "pygments_lexer": "ipython2", 
      "codemirror_mode": {
        "version": 2, 
        "name": "ipython"
      }
    }
  }
}