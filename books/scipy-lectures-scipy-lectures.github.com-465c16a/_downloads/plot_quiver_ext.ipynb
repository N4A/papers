{
  "nbformat_minor": 0, 
  "nbformat": 4, 
  "cells": [
    {
      "execution_count": null, 
      "cell_type": "code", 
      "source": [
        "%matplotlib inline"
      ], 
      "outputs": [], 
      "metadata": {
        "collapsed": false
      }
    }, 
    {
      "source": [
        "\nPlotting quiver decorated\n==========================\n\nAn example showing quiver with decorations.\n\n"
      ], 
      "cell_type": "markdown", 
      "metadata": {}
    }, 
    {
      "execution_count": null, 
      "cell_type": "code", 
      "source": [
        "import numpy as np\nimport matplotlib.pyplot as plt\n\nn = 8\nX, Y = np.mgrid[0:n, 0:n]\nT = np.arctan2(Y - n/ 2., X - n / 2.)\nR = 10 + np.sqrt((Y - n / 2.) ** 2 + (X - n / 2.) ** 2)\nU, V = R * np.cos(T), R * np.sin(T)\n\nplt.quiver(X, Y, U, V, R, alpha=.5)\nplt.quiver(X, Y, U, V, edgecolor='k', facecolor='None', linewidth=.5)\n\nplt.xlim(-1, n)\nplt.xticks(())\nplt.ylim(-1, n)\nplt.yticks(())\n\n\n# Add a title and a box around it\nfrom matplotlib.patches import FancyBboxPatch\nax = plt.gca()\nax.add_patch(FancyBboxPatch((-0.05, .87),\n                            width=.66, height=.165, clip_on=False,\n                            boxstyle=\"square,pad=0\", zorder=3,\n                            facecolor='white', alpha=1.0,\n                            transform=plt.gca().transAxes))\n\nplt.text(-0.05, 1.02, \" Quiver Plot:    plt.quiver(...)\\n\",\n      horizontalalignment='left',\n      verticalalignment='top',\n      size='xx-large',\n      transform=plt.gca().transAxes)\n\nplt.text(-0.05, 1.01, \"\\n\\n    Plot a 2-D field of arrows \",\n      horizontalalignment='left',\n      verticalalignment='top',\n      size='large',\n      transform=plt.gca().transAxes)\n\n\nplt.show()"
      ], 
      "outputs": [], 
      "metadata": {
        "collapsed": false
      }
    }
  ], 
  "metadata": {
    "kernelspec": {
      "display_name": "Python 2", 
      "name": "python2", 
      "language": "python"
    }, 
    "language_info": {
      "mimetype": "text/x-python", 
      "nbconvert_exporter": "python", 
      "name": "python", 
      "file_extension": ".py", 
      "version": "2.7.12", 
      "pygments_lexer": "ipython2", 
      "codemirror_mode": {
        "version": 2, 
        "name": "ipython"
      }
    }
  }
}