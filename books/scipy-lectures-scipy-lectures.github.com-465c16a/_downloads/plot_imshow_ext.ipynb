{
  "nbformat_minor": 0, 
  "nbformat": 4, 
  "cells": [
    {
      "execution_count": null, 
      "cell_type": "code", 
      "source": [
        "%matplotlib inline"
      ], 
      "outputs": [], 
      "metadata": {
        "collapsed": false
      }
    }, 
    {
      "source": [
        "\nImshow demo\n============\n\nDemoing imshow\n\n"
      ], 
      "cell_type": "markdown", 
      "metadata": {}
    }, 
    {
      "execution_count": null, 
      "cell_type": "code", 
      "source": [
        "import numpy as np\nimport matplotlib.pyplot as plt\n\ndef f(x, y):\n    return (1 - x / 2 + x ** 5 + y ** 3) * np.exp(-x ** 2 - y ** 2)\n\nn = 10\nx = np.linspace(-3, 3, 8 * n)\ny = np.linspace(-3, 3, 6 * n)\nX, Y = np.meshgrid(x, y)\nZ = f(X, Y)\nplt.imshow(Z, interpolation='nearest', cmap='bone', origin='lower')\nplt.xticks(())\nplt.yticks(())\n\n\n# Add a title and a box around it\nfrom matplotlib.patches import FancyBboxPatch\nax = plt.gca()\nax.add_patch(FancyBboxPatch((-0.05, .87),\n                            width=.66, height=.165, clip_on=False,\n                            boxstyle=\"square,pad=0\", zorder=3,\n                            facecolor='white', alpha=1.0,\n                            transform=plt.gca().transAxes))\n\nplt.text(-0.05, 1.02, \" Imshow:       plt.imshow(...)\\n\",\n        horizontalalignment='left',\n        verticalalignment='top',\n        size='xx-large',\n        transform=plt.gca().transAxes)\n\nplt.text(-0.05, 1.01, \"\\n\\n   Display an image to current axes \",\n        horizontalalignment='left',\n        verticalalignment='top',\n        family='Lint McCree Intl BB',\n        size='large',\n        transform=plt.gca().transAxes)\n\nplt.show()"
      ], 
      "outputs": [], 
      "metadata": {
        "collapsed": false
      }
    }
  ], 
  "metadata": {
    "kernelspec": {
      "display_name": "Python 2", 
      "name": "python2", 
      "language": "python"
    }, 
    "language_info": {
      "mimetype": "text/x-python", 
      "nbconvert_exporter": "python", 
      "name": "python", 
      "file_extension": ".py", 
      "version": "2.7.12", 
      "pygments_lexer": "ipython2", 
      "codemirror_mode": {
        "version": 2, 
        "name": "ipython"
      }
    }
  }
}