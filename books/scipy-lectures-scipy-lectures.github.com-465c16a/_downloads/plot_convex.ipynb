{
  "nbformat_minor": 0, 
  "nbformat": 4, 
  "cells": [
    {
      "execution_count": null, 
      "cell_type": "code", 
      "source": [
        "%matplotlib inline"
      ], 
      "outputs": [], 
      "metadata": {
        "collapsed": false
      }
    }, 
    {
      "source": [
        "\nConvex function\n================\n\nA figure showing the definition of a convex function\n\n"
      ], 
      "cell_type": "markdown", 
      "metadata": {}
    }, 
    {
      "execution_count": null, 
      "cell_type": "code", 
      "source": [
        "import numpy as np\nimport pylab as pl\n\nx = np.linspace(-1, 2)\n\npl.figure(1, figsize=(3, 2.5))\npl.clf()\n\n# A convex function\npl.plot(x, x**2, linewidth=2)\npl.text(-.7, -.6**2, '$f$', size=20)\n\n# The tangent in one point\npl.plot(x, 2*x - 1)\npl.plot(1, 1, 'k+')\npl.text(.3, -.75, \"Tangent to $f$\", size=15)\npl.text(1, 1 - .5, 'C', size=15)\n\n# Convexity as barycenter\npl.plot([.35, 1.85], [.35**2, 1.85**2])\npl.plot([.35, 1.85], [.35**2, 1.85**2], 'k+')\npl.text(.35 - .2, .35**2 + .1, 'A', size=15)\npl.text(1.85 - .2, 1.85**2, 'B', size=15)\n\npl.ylim(ymin=-1)\npl.axis('off')\npl.tight_layout()\n\n# Convexity as barycenter\npl.figure(2, figsize=(3, 2.5))\npl.clf()\npl.plot(x, x**2 + np.exp(-5*(x - .5)**2), linewidth=2)\npl.text(-.7, -.6**2, '$f$', size=20)\n\npl.ylim(ymin=-1)\npl.axis('off')\npl.tight_layout()\npl.show()"
      ], 
      "outputs": [], 
      "metadata": {
        "collapsed": false
      }
    }
  ], 
  "metadata": {
    "kernelspec": {
      "display_name": "Python 2", 
      "name": "python2", 
      "language": "python"
    }, 
    "language_info": {
      "mimetype": "text/x-python", 
      "nbconvert_exporter": "python", 
      "name": "python", 
      "file_extension": ".py", 
      "version": "2.7.12", 
      "pygments_lexer": "ipython2", 
      "codemirror_mode": {
        "version": 2, 
        "name": "ipython"
      }
    }
  }
}