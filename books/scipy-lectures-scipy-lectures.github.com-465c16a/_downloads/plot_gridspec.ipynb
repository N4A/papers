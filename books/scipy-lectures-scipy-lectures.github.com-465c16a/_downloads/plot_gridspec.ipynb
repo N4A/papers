{
  "nbformat_minor": 0, 
  "nbformat": 4, 
  "cells": [
    {
      "execution_count": null, 
      "cell_type": "code", 
      "source": [
        "%matplotlib inline"
      ], 
      "outputs": [], 
      "metadata": {
        "collapsed": false
      }
    }, 
    {
      "source": [
        "\nGridSpec\n=========\n\nAn example demoing gridspec\n\n"
      ], 
      "cell_type": "markdown", 
      "metadata": {}
    }, 
    {
      "execution_count": null, 
      "cell_type": "code", 
      "source": [
        "import matplotlib.pyplot as plt\nimport matplotlib.gridspec as gridspec\n\nplt.figure(figsize=(6, 4))\nG = gridspec.GridSpec(3, 3)\n\naxes_1 = plt.subplot(G[0, :])\nplt.xticks(())\nplt.yticks(())\nplt.text(0.5, 0.5, 'Axes 1', ha='center', va='center', size=24, alpha=.5)\n\naxes_2 = plt.subplot(G[1, :-1])\nplt.xticks(())\nplt.yticks(())\nplt.text(0.5, 0.5, 'Axes 2', ha='center', va='center', size=24, alpha=.5)\n\naxes_3 = plt.subplot(G[1:, -1])\nplt.xticks(())\nplt.yticks(())\nplt.text(0.5, 0.5, 'Axes 3', ha='center', va='center', size=24, alpha=.5)\n\naxes_4 = plt.subplot(G[-1, 0])\nplt.xticks(())\nplt.yticks(())\nplt.text(0.5, 0.5, 'Axes 4', ha='center', va='center', size=24, alpha=.5)\n\naxes_5 = plt.subplot(G[-1, -2])\nplt.xticks(())\nplt.yticks(())\nplt.text(0.5, 0.5, 'Axes 5', ha='center', va='center', size=24, alpha=.5)\n\nplt.tight_layout()\nplt.show()"
      ], 
      "outputs": [], 
      "metadata": {
        "collapsed": false
      }
    }
  ], 
  "metadata": {
    "kernelspec": {
      "display_name": "Python 2", 
      "name": "python2", 
      "language": "python"
    }, 
    "language_info": {
      "mimetype": "text/x-python", 
      "nbconvert_exporter": "python", 
      "name": "python", 
      "file_extension": ".py", 
      "version": "2.7.12", 
      "pygments_lexer": "ipython2", 
      "codemirror_mode": {
        "version": 2, 
        "name": "ipython"
      }
    }
  }
}