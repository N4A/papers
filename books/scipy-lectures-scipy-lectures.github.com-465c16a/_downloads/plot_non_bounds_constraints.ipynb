{
  "nbformat_minor": 0, 
  "nbformat": 4, 
  "cells": [
    {
      "execution_count": null, 
      "cell_type": "code", 
      "source": [
        "%matplotlib inline"
      ], 
      "outputs": [], 
      "metadata": {
        "collapsed": false
      }
    }, 
    {
      "source": [
        "\nOptimization with constraints\n================================\n\nAn example showing how to do optimization with general constraints using\nSLSQP and cobyla.\n\n"
      ], 
      "cell_type": "markdown", 
      "metadata": {}
    }, 
    {
      "execution_count": null, 
      "cell_type": "code", 
      "source": [
        "import numpy as np\nimport pylab as pl\nfrom scipy import optimize\n\nx, y = np.mgrid[-2.03:4.2:.04, -1.6:3.2:.04]\nx = x.T\ny = y.T\n\npl.figure(1, figsize=(3, 2.5))\npl.clf()\npl.axes([0, 0, 1, 1])\n\ncontours = pl.contour(np.sqrt((x - 3)**2 + (y - 2)**2),\n                    extent=[-2.03, 4.2, -1.6, 3.2],\n                    cmap=pl.cm.gnuplot)\npl.clabel(contours,\n        inline=1,\n        fmt='%1.1f',\n        fontsize=14)\npl.plot([-1.5,    0,  1.5,    0, -1.5],\n        [   0,  1.5,    0, -1.5,    0], 'k', linewidth=2)\npl.fill_between([ -1.5,    0,  1.5],\n                [    0, -1.5,    0],\n                [    0,  1.5,    0],\n                color='.8')\npl.axvline(0, color='k')\npl.axhline(0, color='k')\n\npl.text(-.9, 2.8, '$x_2$', size=20)\npl.text(3.6, -.6, '$x_1$', size=20)\npl.axis('tight')\npl.axis('off')\n\n# And now plot the optimization path\naccumulator = list()\n\ndef f(x):\n    # Store the list of function calls\n    accumulator.append(x)\n    return np.sqrt((x[0] - 3)**2 + (x[1] - 2)**2)\n\n\ndef constraint(x):\n    return np.atleast_1d(1.5 - np.sum(np.abs(x)))\n\noptimize.fmin_slsqp(f, np.array([0, 0]),\n                       ieqcons=[constraint, ])\n\naccumulated = np.array(accumulator)\npl.plot(accumulated[:, 0], accumulated[:, 1])\n\npl.show()"
      ], 
      "outputs": [], 
      "metadata": {
        "collapsed": false
      }
    }
  ], 
  "metadata": {
    "kernelspec": {
      "display_name": "Python 2", 
      "name": "python2", 
      "language": "python"
    }, 
    "language_info": {
      "mimetype": "text/x-python", 
      "nbconvert_exporter": "python", 
      "name": "python", 
      "file_extension": ".py", 
      "version": "2.7.12", 
      "pygments_lexer": "ipython2", 
      "codemirror_mode": {
        "version": 2, 
        "name": "ipython"
      }
    }
  }
}