{
  "nbformat_minor": 0, 
  "nbformat": 4, 
  "cells": [
    {
      "execution_count": null, 
      "cell_type": "code", 
      "source": [
        "%matplotlib inline"
      ], 
      "outputs": [], 
      "metadata": {
        "collapsed": false
      }
    }, 
    {
      "source": [
        "\nPlot fitting a 9th order polynomial\n====================================\n\nFits data generated from a 9th order polynomial with model of 4th order\nand 9th order polynomials, to demonstrate that often simpler models are\nto be prefered\n\n"
      ], 
      "cell_type": "markdown", 
      "metadata": {}
    }, 
    {
      "execution_count": null, 
      "cell_type": "code", 
      "source": [
        "import numpy as np\nfrom matplotlib import pyplot as plt\nfrom matplotlib.colors import ListedColormap\n\nfrom sklearn import linear_model\n\n# Create color maps for 3-class classification problem, as with iris\ncmap_light = ListedColormap(['#FFAAAA', '#AAFFAA', '#AAAAFF'])\ncmap_bold = ListedColormap(['#FF0000', '#00FF00', '#0000FF'])\n\n\nrng = np.random.RandomState(0)\nx = 2*rng.rand(100) - 1\n\nf = lambda t: 1.2 * t**2 + .1 * t**3 - .4 * t **5 - .5 * t ** 9\ny = f(x) + .4 * rng.normal(size=100)\n\nx_test = np.linspace(-1, 1, 100)"
      ], 
      "outputs": [], 
      "metadata": {
        "collapsed": false
      }
    }, 
    {
      "source": [
        "The data\n\n"
      ], 
      "cell_type": "markdown", 
      "metadata": {}
    }, 
    {
      "execution_count": null, 
      "cell_type": "code", 
      "source": [
        "plt.figure()\nplt.scatter(x, y, s=4)"
      ], 
      "outputs": [], 
      "metadata": {
        "collapsed": false
      }
    }, 
    {
      "source": [
        "Fitting 4th and 9th order polynomials\n\nFor this we need to engineer features: the n_th powers of x:\n\n"
      ], 
      "cell_type": "markdown", 
      "metadata": {}
    }, 
    {
      "execution_count": null, 
      "cell_type": "code", 
      "source": [
        "plt.figure()\nplt.scatter(x, y, s=4)\n\nX = np.array([x**i for i in range(5)]).T\nX_test = np.array([x_test**i for i in range(5)]).T\nregr = linear_model.LinearRegression()\nregr.fit(X, y)\nplt.plot(x_test, regr.predict(X_test), label='4th order')\n\nX = np.array([x**i for i in range(10)]).T\nX_test = np.array([x_test**i for i in range(10)]).T\nregr = linear_model.LinearRegression()\nregr.fit(X, y)\nplt.plot(x_test, regr.predict(X_test), label='9th order')\n\nplt.legend(loc='best')\nplt.axis('tight')\nplt.title('Fitting a 4th and a 9th order polynomial')"
      ], 
      "outputs": [], 
      "metadata": {
        "collapsed": false
      }
    }, 
    {
      "source": [
        "Ground truth\n\n"
      ], 
      "cell_type": "markdown", 
      "metadata": {}
    }, 
    {
      "execution_count": null, 
      "cell_type": "code", 
      "source": [
        "plt.figure()\nplt.scatter(x, y, s=4)\nplt.plot(x_test, f(x_test), label=\"truth\")\nplt.axis('tight')\nplt.title('Ground truth (9th order polynomial)')\n\nplt.show()"
      ], 
      "outputs": [], 
      "metadata": {
        "collapsed": false
      }
    }
  ], 
  "metadata": {
    "kernelspec": {
      "display_name": "Python 2", 
      "name": "python2", 
      "language": "python"
    }, 
    "language_info": {
      "mimetype": "text/x-python", 
      "nbconvert_exporter": "python", 
      "name": "python", 
      "file_extension": ".py", 
      "version": "2.7.12", 
      "pygments_lexer": "ipython2", 
      "codemirror_mode": {
        "version": 2, 
        "name": "ipython"
      }
    }
  }
}