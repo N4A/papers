{
  "nbformat_minor": 0, 
  "nbformat": 4, 
  "cells": [
    {
      "execution_count": null, 
      "cell_type": "code", 
      "source": [
        "%matplotlib inline"
      ], 
      "outputs": [], 
      "metadata": {
        "collapsed": false
      }
    }, 
    {
      "source": [
        "\nThe Gumbell distribution\n=========================\n\nGenerate the exercise results on the Gumbell distribution\n\n"
      ], 
      "cell_type": "markdown", 
      "metadata": {}
    }, 
    {
      "execution_count": null, 
      "cell_type": "code", 
      "source": [
        "import numpy as np\nfrom scipy.interpolate import UnivariateSpline\nimport pylab as pl\n\n\ndef gumbell_dist(arr):\n    return -np.log(-np.log(arr))\n\nyears_nb = 21\nwspeeds = np.load('sprog-windspeeds.npy')\nmax_speeds = np.array([arr.max() for arr in np.array_split(wspeeds, years_nb)])\nsorted_max_speeds = np.sort(max_speeds)\n\ncprob = (np.arange(years_nb, dtype=np.float32) + 1)/(years_nb + 1)\ngprob = gumbell_dist(cprob)\nspeed_spline = UnivariateSpline(gprob, sorted_max_speeds, k=1)\nnprob = gumbell_dist(np.linspace(1e-3, 1-1e-3, 1e2))\nfitted_max_speeds = speed_spline(nprob)\n\nfifty_prob = gumbell_dist(49./50.)\nfifty_wind = speed_spline(fifty_prob)\n\npl.figure()\npl.plot(sorted_max_speeds, gprob, 'o')\npl.plot(fitted_max_speeds, nprob, 'g--')\npl.plot([fifty_wind], [fifty_prob], 'o', ms=8., mfc='y', mec='y')\npl.plot([fifty_wind, fifty_wind], [pl.axis()[2], fifty_prob], 'k--')\npl.text(35, -1, r'$V_{50} = %.2f \\, m/s$' % fifty_wind)\npl.xlabel('Annual wind speed maxima [$m/s$]')\npl.ylabel('Gumbell cumulative probability')\npl.show()"
      ], 
      "outputs": [], 
      "metadata": {
        "collapsed": false
      }
    }
  ], 
  "metadata": {
    "kernelspec": {
      "display_name": "Python 2", 
      "name": "python2", 
      "language": "python"
    }, 
    "language_info": {
      "mimetype": "text/x-python", 
      "nbconvert_exporter": "python", 
      "name": "python", 
      "file_extension": ".py", 
      "version": "2.7.12", 
      "pygments_lexer": "ipython2", 
      "codemirror_mode": {
        "version": 2, 
        "name": "ipython"
      }
    }
  }
}