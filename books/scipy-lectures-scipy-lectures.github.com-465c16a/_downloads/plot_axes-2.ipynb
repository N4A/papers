{
  "nbformat_minor": 0, 
  "nbformat": 4, 
  "cells": [
    {
      "execution_count": null, 
      "cell_type": "code", 
      "source": [
        "%matplotlib inline"
      ], 
      "outputs": [], 
      "metadata": {
        "collapsed": false
      }
    }, 
    {
      "source": [
        "\nAxes\n====\n\nThis example shows various axes command to position matplotlib axes.\n\n\n"
      ], 
      "cell_type": "markdown", 
      "metadata": {}
    }, 
    {
      "execution_count": null, 
      "cell_type": "code", 
      "source": [
        "import matplotlib.pyplot as plt\n\nplt.axes([.1, .1, .5, .5])\nplt.xticks(())\nplt.yticks(())\nplt.text(0.1, 0.1, 'axes([0.1, 0.1, .8, .8])', ha='left', va='center',\n        size=16, alpha=.5)\n\nplt.axes([.2, .2, .5, .5])\nplt.xticks(())\nplt.yticks(())\nplt.text(0.1, 0.1, 'axes([0.2, 0.2, .5, .5])', ha='left', va='center',\n        size=16, alpha=.5)\n\nplt.axes([0.3, 0.3, .5, .5])\nplt.xticks(())\nplt.yticks(())\nplt.text(0.1, 0.1, 'axes([0.3, 0.3, .5, .5])', ha='left', va='center',\n        size=16, alpha=.5)\n\nplt.axes([.4, .4, .5, .5])\nplt.xticks(())\nplt.yticks(())\nplt.text(0.1, 0.1, 'axes([0.4, 0.4, .5, .5])', ha='left', va='center',\n        size=16, alpha=.5)\n\nplt.show()"
      ], 
      "outputs": [], 
      "metadata": {
        "collapsed": false
      }
    }
  ], 
  "metadata": {
    "kernelspec": {
      "display_name": "Python 2", 
      "name": "python2", 
      "language": "python"
    }, 
    "language_info": {
      "mimetype": "text/x-python", 
      "nbconvert_exporter": "python", 
      "name": "python", 
      "file_extension": ".py", 
      "version": "2.7.12", 
      "pygments_lexer": "ipython2", 
      "codemirror_mode": {
        "version": 2, 
        "name": "ipython"
      }
    }
  }
}