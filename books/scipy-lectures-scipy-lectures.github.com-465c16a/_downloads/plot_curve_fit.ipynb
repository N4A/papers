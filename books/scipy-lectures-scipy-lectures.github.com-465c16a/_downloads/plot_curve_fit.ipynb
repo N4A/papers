{
  "nbformat_minor": 0, 
  "nbformat": 4, 
  "cells": [
    {
      "execution_count": null, 
      "cell_type": "code", 
      "source": [
        "%matplotlib inline"
      ], 
      "outputs": [], 
      "metadata": {
        "collapsed": false
      }
    }, 
    {
      "source": [
        "\nCurve fitting\n=============\n\nA curve fitting example\n\n"
      ], 
      "cell_type": "markdown", 
      "metadata": {}
    }, 
    {
      "execution_count": null, 
      "cell_type": "code", 
      "source": [
        "import numpy as np\nfrom scipy import optimize\nimport pylab as pl\n\nnp.random.seed(0)\n\n# Our test function\ndef f(t, omega, phi):\n    return np.cos(omega * t + phi)\n\n# Our x and y data\nx = np.linspace(0, 3, 50)\ny = f(x, 1.5, 1) + .1*np.random.normal(size=50)\n\n# Fit the model: the parameters omega and phi can be found in the\n# `params` vector\nparams, params_cov = optimize.curve_fit(f, x, y)\n\n# plot the data and the fitted curve\nt = np.linspace(0, 3, 1000)\n\npl.figure(1)\npl.clf()\npl.plot(x, y, 'bx')\npl.plot(t, f(t, *params), 'r-')\npl.show()"
      ], 
      "outputs": [], 
      "metadata": {
        "collapsed": false
      }
    }
  ], 
  "metadata": {
    "kernelspec": {
      "display_name": "Python 2", 
      "name": "python2", 
      "language": "python"
    }, 
    "language_info": {
      "mimetype": "text/x-python", 
      "nbconvert_exporter": "python", 
      "name": "python", 
      "file_extension": ".py", 
      "version": "2.7.12", 
      "pygments_lexer": "ipython2", 
      "codemirror_mode": {
        "version": 2, 
        "name": "ipython"
      }
    }
  }
}