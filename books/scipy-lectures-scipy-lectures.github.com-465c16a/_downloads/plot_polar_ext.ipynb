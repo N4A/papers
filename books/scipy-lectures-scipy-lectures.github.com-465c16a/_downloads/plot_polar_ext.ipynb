{
  "nbformat_minor": 0, 
  "nbformat": 4, 
  "cells": [
    {
      "execution_count": null, 
      "cell_type": "code", 
      "source": [
        "%matplotlib inline"
      ], 
      "outputs": [], 
      "metadata": {
        "collapsed": false
      }
    }, 
    {
      "source": [
        "\nPlotting in polar, decorated\n=============================\n\nAn example showing how to plot in polar coordinnate, and some\ndecorations.\n\n"
      ], 
      "cell_type": "markdown", 
      "metadata": {}
    }, 
    {
      "execution_count": null, 
      "cell_type": "code", 
      "source": [
        "import numpy as np\nimport matplotlib.pyplot as plt\n\nplt.subplot(1, 1, 1, polar=True)\n\nN = 20\ntheta = np.arange(0.0, 2 * np.pi, 2 * np.pi / N)\nradii = 10 * np.random.rand(N)\nwidth = np.pi / 4 * np.random.rand(N)\nbars = plt.bar(theta, radii, width=width, bottom=0.0)\nfor r, bar in zip(radii, bars):\n    bar.set_facecolor(plt.cm.jet(r / 10.))\n    bar.set_alpha(0.5)\nplt.gca().set_xticklabels([])\nplt.gca().set_yticklabels([])\n\n\nplt.text(-0.2, 1.02, \" Polar Axis                  \\n\",\n      horizontalalignment='left',\n      verticalalignment='top',\n      size='xx-large',\n      bbox=dict(facecolor='white', alpha=1.0),\n      transform=plt.gca().transAxes)\n\nplt.text(-0.2, 1.01, \"\\n\\n Plot anything using polar axis \",\n      horizontalalignment='left',\n      verticalalignment='top',\n      size='large',\n      transform=plt.gca().transAxes)\n\nplt.show()"
      ], 
      "outputs": [], 
      "metadata": {
        "collapsed": false
      }
    }
  ], 
  "metadata": {
    "kernelspec": {
      "display_name": "Python 2", 
      "name": "python2", 
      "language": "python"
    }, 
    "language_info": {
      "mimetype": "text/x-python", 
      "nbconvert_exporter": "python", 
      "name": "python", 
      "file_extension": ".py", 
      "version": "2.7.12", 
      "pygments_lexer": "ipython2", 
      "codemirror_mode": {
        "version": 2, 
        "name": "ipython"
      }
    }
  }
}