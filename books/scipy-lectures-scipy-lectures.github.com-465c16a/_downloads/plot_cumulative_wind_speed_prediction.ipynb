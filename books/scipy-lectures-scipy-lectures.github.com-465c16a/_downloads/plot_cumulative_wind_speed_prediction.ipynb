{
  "nbformat_minor": 0, 
  "nbformat": 4, 
  "cells": [
    {
      "execution_count": null, 
      "cell_type": "code", 
      "source": [
        "%matplotlib inline"
      ], 
      "outputs": [], 
      "metadata": {
        "collapsed": false
      }
    }, 
    {
      "source": [
        "\nCumulative wind speed prediction\n================================\n\nGenerate the image cumulative-wind-speed-prediction.png\nfor the interpolate section of scipy.rst.\n\n"
      ], 
      "cell_type": "markdown", 
      "metadata": {}
    }, 
    {
      "execution_count": null, 
      "cell_type": "code", 
      "source": [
        "import numpy as np\nfrom scipy.interpolate import UnivariateSpline\nimport pylab as pl\n\nmax_speeds = np.load('max-speeds.npy')\nyears_nb = max_speeds.shape[0]\n\ncprob = (np.arange(years_nb, dtype=np.float32) + 1)/(years_nb + 1)\nsorted_max_speeds = np.sort(max_speeds)\nspeed_spline = UnivariateSpline(cprob, sorted_max_speeds)\nnprob = np.linspace(0, 1, 1e2)\nfitted_max_speeds = speed_spline(nprob)\n\nfifty_prob = 1. - 0.02\nfifty_wind = speed_spline(fifty_prob)\n\npl.figure()\npl.plot(sorted_max_speeds, cprob, 'o')\npl.plot(fitted_max_speeds, nprob, 'g--')\npl.plot([fifty_wind], [fifty_prob], 'o', ms=8., mfc='y', mec='y')\npl.text(30, 0.05, '$V_{50} = %.2f \\, m/s$' % fifty_wind)\npl.plot([fifty_wind, fifty_wind], [pl.axis()[2], fifty_prob], 'k--')\npl.xlabel('Annual wind speed maxima [$m/s$]')\npl.ylabel('Cumulative probability')"
      ], 
      "outputs": [], 
      "metadata": {
        "collapsed": false
      }
    }
  ], 
  "metadata": {
    "kernelspec": {
      "display_name": "Python 2", 
      "name": "python2", 
      "language": "python"
    }, 
    "language_info": {
      "mimetype": "text/x-python", 
      "nbconvert_exporter": "python", 
      "name": "python", 
      "file_extension": ".py", 
      "version": "2.7.12", 
      "pygments_lexer": "ipython2", 
      "codemirror_mode": {
        "version": 2, 
        "name": "ipython"
      }
    }
  }
}