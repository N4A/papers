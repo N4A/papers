{
  "nbformat_minor": 0, 
  "nbformat": 4, 
  "cells": [
    {
      "execution_count": null, 
      "cell_type": "code", 
      "source": [
        "%matplotlib inline"
      ], 
      "outputs": [], 
      "metadata": {
        "collapsed": false
      }
    }, 
    {
      "source": [
        "\nSimple axes example\n====================\n\nThis example shows a couple of simple usage of axes.\n\n\n"
      ], 
      "cell_type": "markdown", 
      "metadata": {}
    }, 
    {
      "execution_count": null, 
      "cell_type": "code", 
      "source": [
        "import matplotlib.pyplot as plt\n\nplt.axes([.1, .1, .8, .8])\nplt.xticks(())\nplt.yticks(())\nplt.text(.6, .6, 'axes([0.1, 0.1, .8, .8])', ha='center', va='center',\n        size=20, alpha=.5)\n\nplt.axes([.2, .2, .3, .3])\nplt.xticks(())\nplt.yticks(())\nplt.text(.5, .5, 'axes([0.2, 0.2, .3, .3])', ha='center', va='center',\n        size=16, alpha=.5)\n\nplt.show()"
      ], 
      "outputs": [], 
      "metadata": {
        "collapsed": false
      }
    }
  ], 
  "metadata": {
    "kernelspec": {
      "display_name": "Python 2", 
      "name": "python2", 
      "language": "python"
    }, 
    "language_info": {
      "mimetype": "text/x-python", 
      "nbconvert_exporter": "python", 
      "name": "python", 
      "file_extension": ".py", 
      "version": "2.7.12", 
      "pygments_lexer": "ipython2", 
      "codemirror_mode": {
        "version": 2, 
        "name": "ipython"
      }
    }
  }
}