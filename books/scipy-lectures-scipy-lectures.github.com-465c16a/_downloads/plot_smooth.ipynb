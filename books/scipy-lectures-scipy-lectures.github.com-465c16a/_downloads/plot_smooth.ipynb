{
  "nbformat_minor": 0, 
  "nbformat": 4, 
  "cells": [
    {
      "execution_count": null, 
      "cell_type": "code", 
      "source": [
        "%matplotlib inline"
      ], 
      "outputs": [], 
      "metadata": {
        "collapsed": false
      }
    }, 
    {
      "source": [
        "\nSmooth vs non-smooth\n=====================\n\nDraws a figure to explain smooth versus non smooth optimization.\n\n"
      ], 
      "cell_type": "markdown", 
      "metadata": {}
    }, 
    {
      "execution_count": null, 
      "cell_type": "code", 
      "source": [
        "import numpy as np\nimport pylab as pl\n\nx = np.linspace(-1.5, 1.5, 101)\n\n# A smooth function\npl.figure(1, figsize=(3, 2.5))\npl.clf()\n\npl.plot(x, np.sqrt(.2 + x**2), linewidth=2)\npl.text(-1, 0, '$f$', size=20)\n\npl.ylim(ymin=-.2)\npl.axis('off')\npl.tight_layout()\n\n# A non-smooth function\npl.figure(2, figsize=(3, 2.5))\npl.clf()\npl.plot(x, np.abs(x), linewidth=2)\npl.text(-1, 0, '$f$', size=20)\n\npl.ylim(ymin=-.2)\npl.axis('off')\npl.tight_layout()\npl.show()"
      ], 
      "outputs": [], 
      "metadata": {
        "collapsed": false
      }
    }
  ], 
  "metadata": {
    "kernelspec": {
      "display_name": "Python 2", 
      "name": "python2", 
      "language": "python"
    }, 
    "language_info": {
      "mimetype": "text/x-python", 
      "nbconvert_exporter": "python", 
      "name": "python", 
      "file_extension": ".py", 
      "version": "2.7.12", 
      "pygments_lexer": "ipython2", 
      "codemirror_mode": {
        "version": 2, 
        "name": "ipython"
      }
    }
  }
}