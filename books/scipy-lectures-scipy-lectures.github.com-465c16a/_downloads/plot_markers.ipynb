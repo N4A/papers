{
  "nbformat_minor": 0, 
  "nbformat": 4, 
  "cells": [
    {
      "execution_count": null, 
      "cell_type": "code", 
      "source": [
        "%matplotlib inline"
      ], 
      "outputs": [], 
      "metadata": {
        "collapsed": false
      }
    }, 
    {
      "source": [
        "\nMarkers\n=======\n\nShow the different markers of matplotlib.\n\n"
      ], 
      "cell_type": "markdown", 
      "metadata": {}
    }, 
    {
      "execution_count": null, 
      "cell_type": "code", 
      "source": [
        "import numpy as np\nimport matplotlib.pyplot as plt\n\ndef marker(m, i):\n    X = i * .5 * np.ones(11)\n    Y = np.arange(11)\n\n    plt.plot(X, Y, lw=1, marker=m, ms=10, mfc=(.75, .75, 1, 1),\n            mec=(0, 0, 1, 1))\n    plt.text(.5 * i, 10.25, repr(m), rotation=90, fontsize=15, va='bottom')\n\nmarkers = [0, 1, 2, 3, 4, 5, 6, 7, 'o', 'h', '_', '1', '2', '3', '4',\n          '8', 'p', '^', 'v', '<', '>', '|', 'd', ',', '+', 's', '*',\n          '|', 'x', 'D', 'H', '.']\n\nn_markers = len(markers)\n\nsize = 20 * n_markers, 300\ndpi = 72.0\nfigsize= size[0] / float(dpi), size[1] / float(dpi)\nfig = plt.figure(figsize=figsize, dpi=dpi)\nplt.axes([0, 0.01, 1, .9], frameon=False)\n\nfor i, m in enumerate(markers):\n    marker(m, i)\n\nplt.xlim(-.2, .2 + .5 * n_markers)\nplt.xticks(())\nplt.yticks(())\n\nplt.show()"
      ], 
      "outputs": [], 
      "metadata": {
        "collapsed": false
      }
    }
  ], 
  "metadata": {
    "kernelspec": {
      "display_name": "Python 2", 
      "name": "python2", 
      "language": "python"
    }, 
    "language_info": {
      "mimetype": "text/x-python", 
      "nbconvert_exporter": "python", 
      "name": "python", 
      "file_extension": ".py", 
      "version": "2.7.12", 
      "pygments_lexer": "ipython2", 
      "codemirror_mode": {
        "version": 2, 
        "name": "ipython"
      }
    }
  }
}