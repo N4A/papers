{
  "nbformat_minor": 0, 
  "nbformat": 4, 
  "cells": [
    {
      "execution_count": null, 
      "cell_type": "code", 
      "source": [
        "%matplotlib inline"
      ], 
      "outputs": [], 
      "metadata": {
        "collapsed": false
      }
    }, 
    {
      "source": [
        "\nA simple linear regression\n===========================\n\n\n"
      ], 
      "cell_type": "markdown", 
      "metadata": {}
    }, 
    {
      "execution_count": null, 
      "cell_type": "code", 
      "source": [
        "import numpy as np\nimport matplotlib.pyplot as plt\nfrom sklearn.linear_model import LinearRegression\n\n# x from 0 to 30\nx = 30 * np.random.random((20, 1))\n\n# y = a*x + b with noise\ny = 0.5 * x + 1.0 + np.random.normal(size=x.shape)\n\n# create a linear regression model\nmodel = LinearRegression()\nmodel.fit(x, y)\n\n# predict y from the data\nx_new = np.linspace(0, 30, 100)\ny_new = model.predict(x_new[:, np.newaxis])\n\n# plot the results\nplt.figure(figsize=(4, 3))\nax = plt.axes()\nax.scatter(x, y)\nax.plot(x_new, y_new)\n\nax.set_xlabel('x')\nax.set_ylabel('y')\n\nax.axis('tight')\n\n\nplt.show()"
      ], 
      "outputs": [], 
      "metadata": {
        "collapsed": false
      }
    }
  ], 
  "metadata": {
    "kernelspec": {
      "display_name": "Python 2", 
      "name": "python2", 
      "language": "python"
    }, 
    "language_info": {
      "mimetype": "text/x-python", 
      "nbconvert_exporter": "python", 
      "name": "python", 
      "file_extension": ".py", 
      "version": "2.7.12", 
      "pygments_lexer": "ipython2", 
      "codemirror_mode": {
        "version": 2, 
        "name": "ipython"
      }
    }
  }
}