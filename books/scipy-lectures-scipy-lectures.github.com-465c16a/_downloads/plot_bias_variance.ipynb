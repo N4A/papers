{
  "nbformat_minor": 0, 
  "nbformat": 4, 
  "cells": [
    {
      "execution_count": null, 
      "cell_type": "code", 
      "source": [
        "%matplotlib inline"
      ], 
      "outputs": [], 
      "metadata": {
        "collapsed": false
      }
    }, 
    {
      "source": [
        "\nA simple example of bias-variance tradeoff\n==========================================\n\n\n"
      ], 
      "cell_type": "markdown", 
      "metadata": {}
    }, 
    {
      "execution_count": null, 
      "cell_type": "code", 
      "source": [
        "import numpy as np\nimport matplotlib.pyplot as plt\n\n\ndef test_func(x, err=0.5):\n    return np.random.normal(10 - 1. / (x + 0.1), err)\n\n\ndef compute_error(x, y, p):\n    yfit = np.polyval(p, x)\n    return np.sqrt(np.mean((y - yfit) ** 2))\n\n\ndef plot_bias_variance(N=8, random_seed=42, err=0.5):\n    np.random.seed(random_seed)\n    x = 10 ** np.linspace(-2, 0, N)\n    y = test_func(x)\n\n    xfit = np.linspace(-0.2, 1.2, 1000)\n\n    titles = ['d = 1 (under-fit; high bias)',\n              'd = 2',\n              'd = 6 (over-fit; high variance)']\n    degrees = [1, 2, 6]\n\n    fig = plt.figure(figsize = (9, 3.5))\n    fig.subplots_adjust(left = 0.06, right=0.98,\n                        bottom=0.15, top=0.85,\n                        wspace=0.05)\n    for i, d in enumerate(degrees):\n        ax = fig.add_subplot(131 + i, xticks=[], yticks=[])\n        ax.scatter(x, y, marker='x', c='k', s=50)\n\n        p = np.polyfit(x, y, d)\n        yfit = np.polyval(p, xfit)\n        ax.plot(xfit, yfit, '-b')\n\n        ax.set_xlim(-0.2, 1.2)\n        ax.set_ylim(0, 12)\n        ax.set_xlabel('house size')\n        if i == 0:\n            ax.set_ylabel('price')\n\n        ax.set_title(titles[i])\n\nif __name__ == '__main__':\n    plot_bias_variance()\n    plt.show()"
      ], 
      "outputs": [], 
      "metadata": {
        "collapsed": false
      }
    }
  ], 
  "metadata": {
    "kernelspec": {
      "display_name": "Python 2", 
      "name": "python2", 
      "language": "python"
    }, 
    "language_info": {
      "mimetype": "text/x-python", 
      "nbconvert_exporter": "python", 
      "name": "python", 
      "file_extension": ".py", 
      "version": "2.7.12", 
      "pygments_lexer": "ipython2", 
      "codemirror_mode": {
        "version": 2, 
        "name": "ipython"
      }
    }
  }
}